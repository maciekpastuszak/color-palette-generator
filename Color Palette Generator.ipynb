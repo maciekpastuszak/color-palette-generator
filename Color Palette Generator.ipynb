{
 "cells": [
  {
   "cell_type": "code",
   "execution_count": 2,
   "id": "d29c2645",
   "metadata": {},
   "outputs": [],
   "source": [
    "import openai"
   ]
  },
  {
   "cell_type": "code",
   "execution_count": 3,
   "id": "d99c53fc",
   "metadata": {},
   "outputs": [],
   "source": [
    "from dotenv import dotenv_values"
   ]
  },
  {
   "cell_type": "code",
   "execution_count": 4,
   "id": "4fc07489",
   "metadata": {},
   "outputs": [],
   "source": [
    "config = dotenv_values(\".env\")"
   ]
  },
  {
   "cell_type": "code",
   "execution_count": 5,
   "id": "47ca0ec3",
   "metadata": {},
   "outputs": [],
   "source": [
    "openai.api_key = config[\"OPENAI_API_KEY\"]"
   ]
  },
  {
   "cell_type": "code",
   "execution_count": 7,
   "id": "694d88fa",
   "metadata": {},
   "outputs": [
    {
     "data": {
      "text/plain": [
       "<OpenAIObject text_completion id=cmpl-7HWkFWFmClo5miLNrEuJYPMdSz4Z0 at 0x10da2ea50> JSON: {\n",
       "  \"choices\": [\n",
       "    {\n",
       "      \"finish_reason\": \"stop\",\n",
       "      \"index\": 0,\n",
       "      \"logprobs\": null,\n",
       "      \"text\": \"\\nResponse:\\n[\\\"#FF8A7D\\\", \\\"#FCF9CF\\\", \\\"#FFF3B0\\\", \\\"#FFE08B\\\", \\\"#FED45E\\\", \\\"#D8AA83\\\"]\"\n",
       "    }\n",
       "  ],\n",
       "  \"created\": 1684411803,\n",
       "  \"id\": \"cmpl-7HWkFWFmClo5miLNrEuJYPMdSz4Z0\",\n",
       "  \"model\": \"text-davinci-003\",\n",
       "  \"object\": \"text_completion\",\n",
       "  \"usage\": {\n",
       "    \"completion_tokens\": 43,\n",
       "    \"prompt_tokens\": 45,\n",
       "    \"total_tokens\": 88\n",
       "  }\n",
       "}"
      ]
     },
     "execution_count": 7,
     "metadata": {},
     "output_type": "execute_result"
    }
   ],
   "source": [
    "prompt = \"\"\" \n",
    "You are a color paletter generating assistnat that responds to text prompts for color paletes\n",
    "\n",
    "Desired Format: a JSON array of hexadecimal color codes\n",
    "\n",
    "Text: a beautiful sunset\n",
    "\"\"\"\n",
    "\n",
    "response = openai.Completion.create(\n",
    "    prompt = prompt,\n",
    "    model = \"text-davinci-003\",\n",
    "    max_tokens=200\n",
    ")\n",
    "\n",
    "print (response[\"choices\"][0][text])"
   ]
  },
  {
   "cell_type": "code",
   "execution_count": null,
   "id": "0d0b0f0a",
   "metadata": {},
   "outputs": [],
   "source": []
  }
 ],
 "metadata": {
  "kernelspec": {
   "display_name": "Python 3 (ipykernel)",
   "language": "python",
   "name": "python3"
  },
  "language_info": {
   "codemirror_mode": {
    "name": "ipython",
    "version": 3
   },
   "file_extension": ".py",
   "mimetype": "text/x-python",
   "name": "python",
   "nbconvert_exporter": "python",
   "pygments_lexer": "ipython3",
   "version": "3.11.3"
  }
 },
 "nbformat": 4,
 "nbformat_minor": 5
}
