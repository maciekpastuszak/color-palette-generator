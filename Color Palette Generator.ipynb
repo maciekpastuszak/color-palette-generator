{
 "cells": [
  {
   "cell_type": "code",
   "execution_count": 2,
   "id": "eb529ec8",
   "metadata": {},
   "outputs": [],
   "source": [
    "import openai"
   ]
  },
  {
   "cell_type": "code",
   "execution_count": 3,
   "id": "cdb950e5",
   "metadata": {},
   "outputs": [],
   "source": [
    "from dotenv import dotenv_values"
   ]
  },
  {
   "cell_type": "code",
   "execution_count": 4,
   "id": "9e58585b",
   "metadata": {},
   "outputs": [],
   "source": [
    "config = dotenv_values(\".env\")"
   ]
  },
  {
   "cell_type": "code",
   "execution_count": 5,
   "id": "9718436f",
   "metadata": {},
   "outputs": [],
   "source": [
    "openai.api_key = config[\"OPENAI_API_KEY\"]"
   ]
  },
  {
   "cell_type": "code",
   "execution_count": 13,
   "id": "8c7bab7c",
   "metadata": {},
   "outputs": [
    {
     "name": "stdout",
     "output_type": "stream",
     "text": [
      "[\"#FFE6CC\", \"#FCA64E\", \"#C69C6D\", \"#935867\", \"#5F3045\", \"#FF9900\"]\n"
     ]
    }
   ],
   "source": [
    "prompt = \"\"\" \n",
    "You are a color palette generating assistant that responds to text prompts for color palettes\n",
    "You should generate color palettes that fit the theme, mood, or instructions in the prompt.\n",
    "The plaettes should be between 2 and 8 colors.\n",
    "\n",
    "Q: Convert the following verbal description of a color palette into a list of colors: The Mediterranean Sea\n",
    "A: [\"#006699\", \"#66CCCC\", \"#F0E68C\", \"#008000\", \"#F08080\"]\n",
    "\n",
    "Q: Convert the following verbal description of a color palette into a list of colors: sage, nature, earth\n",
    "A: [\"#EDF1D6\", \"#9DC08B\", \"#609966\", \"#4051B\"]\n",
    "\n",
    "Desired Format: a JSON array of hexadecimal color codes\n",
    "\n",
    "Text: a beautiful sunset\n",
    "\n",
    "Response: \n",
    "\"\"\"\n",
    "\n",
    "response = openai.Completion.create(\n",
    "    prompt = prompt,\n",
    "    model = \"text-davinci-003\",\n",
    "    max_tokens=200\n",
    ")\n",
    "\n",
    "print (response[\"choices\"][0][\"text\"])"
   ]
  },
  {
   "cell_type": "code",
   "execution_count": 21,
   "id": "627df64a",
   "metadata": {},
   "outputs": [
    {
     "data": {
      "text/markdown": [
       "<span style='color: #FFE6CC'>█</span> <span style='color: #FCA64E'>█</span> <span style='color: #C69C6D'>█</span> <span style='color: #935867'>█</span> <span style='color: #5F3045'>█</span> <span style='color: #FF9900'>█</span>"
      ],
      "text/plain": [
       "<IPython.core.display.Markdown object>"
      ]
     },
     "metadata": {},
     "output_type": "display_data"
    }
   ],
   "source": [
    "from IPython.display import Markdown, display\n",
    "\n",
    "def display_colors(colors):\n",
    "    display(Markdown(\" \".join(\n",
    "        f\"<span style='color: {color}'>{chr(9608)}</span>\"\n",
    "        for color in colors\n",
    "   )))\n",
    "    \n",
    "display_colors([\"#FFE6CC\", \"#FCA64E\", \"#C69C6D\", \"#935867\", \"#5F3045\", \"#FF9900\"])"
   ]
  },
  {
   "cell_type": "code",
   "execution_count": null,
   "id": "8d1277d6",
   "metadata": {},
   "outputs": [],
   "source": []
  }
 ],
 "metadata": {
  "kernelspec": {
   "display_name": "Python 3 (ipykernel)",
   "language": "python",
   "name": "python3"
  },
  "language_info": {
   "codemirror_mode": {
    "name": "ipython",
    "version": 3
   },
   "file_extension": ".py",
   "mimetype": "text/x-python",
   "name": "python",
   "nbconvert_exporter": "python",
   "pygments_lexer": "ipython3",
   "version": "3.11.3"
  }
 },
 "nbformat": 4,
 "nbformat_minor": 5
}
