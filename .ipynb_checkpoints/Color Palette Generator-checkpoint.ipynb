{
 "cells": [
  {
   "cell_type": "code",
   "execution_count": 2,
   "id": "4e08cd3e",
   "metadata": {},
   "outputs": [],
   "source": [
    "import openai"
   ]
  },
  {
   "cell_type": "code",
   "execution_count": 3,
   "id": "d7cfc4dd",
   "metadata": {},
   "outputs": [],
   "source": [
    "from dotenv import dotenv_values"
   ]
  },
  {
   "cell_type": "code",
   "execution_count": 4,
   "id": "b9a74f39",
   "metadata": {},
   "outputs": [],
   "source": [
    "config = dotenv_values(\".env\")"
   ]
  },
  {
   "cell_type": "code",
   "execution_count": 5,
   "id": "e95027d1",
   "metadata": {},
   "outputs": [],
   "source": [
    "openai.api_key = config[\"OPENAI_API_KEY\"]"
   ]
  },
  {
   "cell_type": "code",
   "execution_count": 10,
   "id": "15d9d714",
   "metadata": {},
   "outputs": [
    {
     "name": "stdout",
     "output_type": "stream",
     "text": [
      "\n",
      "Response: [\"#F55B54\", \"#FF7F56\", \"#FFAF6B\", \"#FDD6A3\", \"#E1CCB3\", \"#BAAE76\"]\n"
     ]
    }
   ],
   "source": [
    "prompt = \"\"\" \n",
    "You are a color palette generating assistant that responds to text prompts for color palettes\n",
    "\n",
    "Desired Format: a JSON array of hexadecimal color codes\n",
    "\n",
    "Text: a beautiful sunset\n",
    "\n",
    "Response: \n",
    "\"\"\"\n",
    "\n",
    "response = openai.Completion.create(\n",
    "    prompt = prompt,\n",
    "    model = \"text-davinci-003\",\n",
    "    max_tokens=200\n",
    ")\n",
    "\n",
    "print (response[\"choices\"][0][\"text\"])"
   ]
  },
  {
   "cell_type": "code",
   "execution_count": null,
   "id": "8d45c358",
   "metadata": {},
   "outputs": [],
   "source": []
  }
 ],
 "metadata": {
  "kernelspec": {
   "display_name": "Python 3 (ipykernel)",
   "language": "python",
   "name": "python3"
  },
  "language_info": {
   "codemirror_mode": {
    "name": "ipython",
    "version": 3
   },
   "file_extension": ".py",
   "mimetype": "text/x-python",
   "name": "python",
   "nbconvert_exporter": "python",
   "pygments_lexer": "ipython3",
   "version": "3.11.3"
  }
 },
 "nbformat": 4,
 "nbformat_minor": 5
}
